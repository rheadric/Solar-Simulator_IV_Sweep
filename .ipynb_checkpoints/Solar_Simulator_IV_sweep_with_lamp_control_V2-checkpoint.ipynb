{
 "cells": [
  {
   "cell_type": "markdown",
   "id": "41944041",
   "metadata": {},
   "source": [
    "#  Newport LSH-7320 Solar Simulator IV sweep\n",
    "\n",
    "#### V2 for both single sweep PV testing and multi-sweep degradation testing.\n",
    "\n",
    "To prepare, check the following:\n",
    "\n",
    "* Turn the Keithley 2401 meter on and plug the KUSB488 into the USB hub.\n",
    "* Also plug the Labjack unit into the USB hub and the FIO4 output of the Labjack to the trigger of the LSH-7320.\n",
    "* Plug the USB hub into your computer.  Make sure each USB channel is on and each device mounts.\n",
    "\n",
    "Some specifics of the code:\n",
    "\n",
    "* Use the OS commands below to navigate to the directory where you want to save the data.\n",
    "* Put this script and the K2401SS.py library in the current working directory (cwd).\n",
    "* If you are not sure what the cwd is, use ```os.getcwd()``` to find out. ```%pwd``` also returns the cwd.\n",
    "* Run code block 5 below. A \"\\data_mmddyy\" directory will be automatically created within the cwd.\n",
    "* Run code block 7: ```Keithley = K2401SS.K2401(dll_dir=r'C:\\WINDOWS\\system32\\visa64.dll')```\n",
    "    * If the Keithley unit is found it returns: ```KEITHLEY INSTRUMENTS INC.,MODEL 2401,1370363,A01 Aug 25 2011 12:57:43/A02  /S/K```\n",
    "* Run the code cells below the line \"Re-run the cells below while changing the parameters as needed.\".\n",
    "* Change the sample name, cell number, etc. and re-run as needed.\n",
    "* The data is automatically saved in .csv files and a plot generated/saved after each sweep. \n",
    "* A time code (HHMMSS) is appended to the sample name to avoid overwiting the data from the same sample and cell.\n",
    "* A parameters file is created and added to for each \"\\data\" folder.\n",
    "\n",
    "Path and filename:\n",
    "* The path to the data folder is ```path = os.getcwd() + \"\\data_\" + today.strftime(\"%m%d%y\")```\n",
    "* There are three kinds of files associated with each scan. Their names are built from the sample name, the cell number, the scan direction (\"F\" or \"R\"), and the time (HHMMSS).  The parameters file name has the date appended (mmddyy).\n",
    "* A special timeseries parameter file is created for timeseries scans, as described below.\n",
    "\n",
    "Sample and cell parameters:\n",
    "* ```samplename = \"Silicon\"``` Name of you sample.\n",
    "* ```cellnumber = \"1\"```       Cell number (in string format).\n",
    "* ```cellarea = 2.0*4.0```     Cell area or mask area in cm$^2$.\n",
    "\n",
    "Voltage sweep parameters:\n",
    "* ```startv = -0.1```         Sweep start voltage.\n",
    "* ```stopv = 0.65```          Sweep stop voltage.\n",
    "* ```stepv = 0.025```         Sweep step size.\n",
    "* ```sweep_rate = \"medium\"``` slow=about 1.3 steps/s, medium=5 steps/s,fast=12 steps/s. Note that ```stepv``` also affects the sweep rate in mV/s.\n",
    "* ```direction = \"both\"``` options are: (\"forward\", \"reverse\", and \"both\"). Selecting \"both\" results in four sweeps since dark and light sweeps are done in each direction. Selecting \"forward\" or \"reverse\" result in two sweeps, one dark and one light.\n",
    "\n",
    "Single scan option:\n",
    "* ```do_single_scan = True``` (True/False) Single scan takes priority. Set this option to ```False``` to run a timeseries.\n",
    "* Set the other parameters in code block 8 as needed.\n",
    "* Pro Tip: It may be more convenient to use \"Restart & Run All\" from the Kernel menu after updating the parameters instead of executing each cell individually.\n",
    "\n",
    "Multiple sweeps for degradation testing:\n",
    "\n",
    "* Set ```do_timeseries = True``` and ```do_single_scan = False```.\n",
    "* Set the other parameters in code block 8 as needed.\n",
    "* Use the companion script \"IV_sweep_Timeseries_Monitor_V1.ipynb\" to view a continually updated plot of the timeseries.\n",
    "    * Make sure the ```path``` and ```filename``` variables are set correctly. \n",
    "    * The filname should have the form \"timeseries_parameters_mmddyy\". It will be automatically created by this script.\n",
    "\n",
    "Timeseries loop options:\n",
    "* ```do_timeseries = False``` (True/False) Set this option to ```True``` to run a time series.\n",
    "* ```timeseries_interval = int(60)``` interval in seconds. (must be an integer)\n",
    "* ```timeseries_duration = 1.0```     duration in hours. (float)\n",
    "\n",
    "Saving and printing options:\n",
    "* ```savedata = 'yes'```       ('yes'/'no') Saves the data and the plot to a file.\n",
    "* ```saveparameters = 'yes'``` ('yes'/'no') Adds the parameters to the parameters file.\n",
    "* ```verbose = 1```            (1/0) Prints a lot of extra stuff and shows the plot.\n",
    "\n",
    "\n",
    "\n",
    "For Labjack code examples, consult the source code at https://github.com/labjack/LabJackPython/blob/master/src/u\n",
    "\n",
    "###### V2 last updated 1/1/2022 RLH."
   ]
  },
  {
   "cell_type": "code",
   "execution_count": 1,
   "id": "417262bc",
   "metadata": {},
   "outputs": [],
   "source": [
    "import os\n",
    "from datetime import date, datetime\n",
    "import time"
   ]
  },
  {
   "cell_type": "code",
   "execution_count": 2,
   "id": "ab8696f1",
   "metadata": {},
   "outputs": [
    {
     "data": {
      "text/plain": [
       "'C:\\\\Users\\\\randy\\\\Documents\\\\mypy'"
      ]
     },
     "execution_count": 2,
     "metadata": {},
     "output_type": "execute_result"
    }
   ],
   "source": [
    "%pwd"
   ]
  },
  {
   "cell_type": "code",
   "execution_count": 3,
   "id": "d1d65c80",
   "metadata": {},
   "outputs": [
    {
     "name": "stdout",
     "output_type": "stream",
     "text": [
      "C:\\Users\\LabUser\\Documents\\randy\n"
     ]
    }
   ],
   "source": [
    "%cd \"C:\\Users\\LabUser\\Documents\\randy\""
   ]
  },
  {
   "cell_type": "code",
   "execution_count": 4,
   "id": "440233e7",
   "metadata": {
    "scrolled": true
   },
   "outputs": [
    {
     "name": "stdout",
     "output_type": "stream",
     "text": [
      " Volume in drive C is Windows-SSD\n",
      " Volume Serial Number is 382C-13F4\n",
      "\n",
      " Directory of C:\\Users\\LabUser\\Documents\\randy\n",
      "\n",
      "01/02/2022  02:40 PM    <DIR>          .\n",
      "01/01/2022  09:40 PM    <DIR>          ..\n",
      "01/02/2022  02:34 PM    <DIR>          .ipynb_checkpoints\n",
      "01/02/2022  02:21 PM    <DIR>          __pycache__\n",
      "01/02/2022  01:25 PM    <DIR>          data_010222\n",
      "01/01/2022  09:09 PM            85,287 IV_sweep_Timescan_Monitor_V1.ipynb\n",
      "01/02/2022  02:16 PM            14,441 K2401SS.py\n",
      "01/02/2022  03:00 PM             2,493 Solar_cell_IV_sweep_setup_instructions.txt\n",
      "01/02/2022  02:31 PM            57,823 Solar_Simulator_IV_sweep_with_lamp_control_V2.ipynb\n",
      "01/02/2022  02:40 PM             2,546 Untitled.ipynb\n",
      "               5 File(s)        162,590 bytes\n",
      "               5 Dir(s)  175,299,268,608 bytes free\n"
     ]
    }
   ],
   "source": [
    "%ls"
   ]
  },
  {
   "cell_type": "code",
   "execution_count": 5,
   "id": "ae324902",
   "metadata": {},
   "outputs": [
    {
     "name": "stdout",
     "output_type": "stream",
     "text": [
      "The directory C:\\Users\\LabUser\\Documents\\randy\\data_010222  already exists.\n",
      "base_t for timeseries scans =1641147942.641171\n"
     ]
    }
   ],
   "source": [
    "today = date.today()\n",
    "path = os.getcwd() + \"\\data_\" + today.strftime(\"%m%d%y\")\n",
    "\n",
    "# Check whether the specified path exists or not\n",
    "isExist = os.path.exists(path)\n",
    "\n",
    "if not isExist:\n",
    "  # Create a new directory if it doesn't already exist \n",
    "    os.makedirs(path)\n",
    "    base_t = time.time()  # save the base time when the directory is created\n",
    "    f = open(path + \"\\\\basetime.dat\", \"w+\")\n",
    "    print(\"{:.9f}\\n\".format(base_t), file=f)\n",
    "    f.close()\n",
    "    print(\"The directory\", path, \" is created!\")\n",
    "    print(\"base_t for timeseries scans =\" + str(base_t))\n",
    "else:\n",
    "    f = open(path + \"\\\\basetime.dat\", \"r\")\n",
    "    base_t = float(f.read(17))\n",
    "    f.close()\n",
    "    print(\"The directory\", path, \" already exists.\")\n",
    "    print(\"base_t for timeseries scans =\" + str(base_t))"
   ]
  },
  {
   "cell_type": "code",
   "execution_count": 3,
   "id": "64761372",
   "metadata": {
    "scrolled": true
   },
   "outputs": [],
   "source": [
    "import numpy as np\n",
    "from scipy.interpolate import interp1d\n",
    "import pandas as pd\n",
    "import matplotlib.pyplot as plt\n",
    "import sys\n",
    "import K2401SS # K2401 Solar Simulator package\n",
    "from IPython.display import display\n",
    "from tqdm import tqdm"
   ]
  },
  {
   "cell_type": "code",
   "execution_count": 4,
   "id": "05706c5c",
   "metadata": {
    "scrolled": false
   },
   "outputs": [
    {
     "name": "stdout",
     "output_type": "stream",
     "text": [
      "K2401 setup:\n",
      "\n",
      "Default Directory:  C:\\Users\\randy\\Documents\\mypy\n",
      "\n",
      "VISA library version:\n",
      "   Resource Manager of Visa Library at C:\\WINDOWS\\system32\\visa64.dll\n",
      "\n",
      "Python version:\n",
      "   3.9.7 (default, Sep 16 2021, 16:59:28) [MSC v.1916 64 bit (AMD64)]\n",
      "\n",
      "List of instruments discovered:\n",
      "\n",
      "Instrument  1 :  GPIB0::24::INSTR\n",
      "  Interface type:  InterfaceType.gpib\n",
      "  Interface board number:  0\n",
      "  Resource class:  INSTR\n",
      "  Resource name:  GPIB0::24::INSTR\n",
      "  Resource alias:  None\n",
      "\n",
      "Instrument  2 :  GPIB1::24::INSTR\n",
      "  Interface type:  InterfaceType.gpib\n",
      "  Interface board number:  1\n",
      "  Resource class:  INSTR\n",
      "  Resource name:  GPIB1::24::INSTR\n",
      "  Resource alias:  None\n"
     ]
    },
    {
     "ename": "VisaIOError",
     "evalue": "VI_ERROR_RSRC_NFOUND (-1073807343): Insufficient location information or the requested device or resource is not present in the system.",
     "output_type": "error",
     "traceback": [
      "\u001b[1;31m---------------------------------------------------------------------------\u001b[0m",
      "\u001b[1;31mVisaIOError\u001b[0m                               Traceback (most recent call last)",
      "\u001b[1;32m~\\AppData\\Local\\Temp/ipykernel_47628/3942439331.py\u001b[0m in \u001b[0;36m<module>\u001b[1;34m\u001b[0m\n\u001b[1;32m----> 1\u001b[1;33m \u001b[0mKeithley\u001b[0m \u001b[1;33m=\u001b[0m \u001b[0mK2401SS\u001b[0m\u001b[1;33m.\u001b[0m\u001b[0mK2401\u001b[0m\u001b[1;33m(\u001b[0m\u001b[0mdll_dir\u001b[0m\u001b[1;33m=\u001b[0m\u001b[1;34mr'C:\\WINDOWS\\system32\\visa64.dll'\u001b[0m\u001b[1;33m)\u001b[0m\u001b[1;33m\u001b[0m\u001b[1;33m\u001b[0m\u001b[0m\n\u001b[0m",
      "\u001b[1;32m~\\Documents\\mypy\\K2401SS.py\u001b[0m in \u001b[0;36m__init__\u001b[1;34m(self, dll_dir)\u001b[0m\n\u001b[0;32m     77\u001b[0m         \u001b[1;31m# Open the device.\u001b[0m\u001b[1;33m\u001b[0m\u001b[1;33m\u001b[0m\u001b[0m\n\u001b[0;32m     78\u001b[0m         \u001b[0mADDRESS\u001b[0m \u001b[1;33m=\u001b[0m \u001b[1;34m'GPIB0::24::INSTR'\u001b[0m\u001b[1;33m\u001b[0m\u001b[1;33m\u001b[0m\u001b[0m\n\u001b[1;32m---> 79\u001b[1;33m         \u001b[0mself\u001b[0m\u001b[1;33m.\u001b[0m\u001b[0mctrl\u001b[0m \u001b[1;33m=\u001b[0m  \u001b[0mrm\u001b[0m\u001b[1;33m.\u001b[0m\u001b[0mopen_resource\u001b[0m\u001b[1;33m(\u001b[0m\u001b[0mADDRESS\u001b[0m\u001b[1;33m)\u001b[0m\u001b[1;33m\u001b[0m\u001b[1;33m\u001b[0m\u001b[0m\n\u001b[0m\u001b[0;32m     80\u001b[0m         \u001b[0mself\u001b[0m\u001b[1;33m.\u001b[0m\u001b[0mctrl\u001b[0m\u001b[1;33m.\u001b[0m\u001b[0mwrite\u001b[0m\u001b[1;33m(\u001b[0m\u001b[1;34m'*IDN?'\u001b[0m\u001b[1;33m)\u001b[0m\u001b[1;33m\u001b[0m\u001b[1;33m\u001b[0m\u001b[0m\n\u001b[0;32m     81\u001b[0m         \u001b[0mprint\u001b[0m\u001b[1;33m(\u001b[0m\u001b[1;34m\"\\n\"\u001b[0m\u001b[1;33m,\u001b[0m \u001b[0mself\u001b[0m\u001b[1;33m.\u001b[0m\u001b[0mctrl\u001b[0m\u001b[1;33m.\u001b[0m\u001b[0mread\u001b[0m\u001b[1;33m(\u001b[0m\u001b[1;33m)\u001b[0m\u001b[1;33m)\u001b[0m\u001b[1;33m\u001b[0m\u001b[1;33m\u001b[0m\u001b[0m\n",
      "\u001b[1;32m~\\anaconda3\\lib\\site-packages\\pyvisa\\highlevel.py\u001b[0m in \u001b[0;36mopen_resource\u001b[1;34m(self, resource_name, access_mode, open_timeout, resource_pyclass, **kwargs)\u001b[0m\n\u001b[0;32m   3302\u001b[0m                 )\n\u001b[0;32m   3303\u001b[0m \u001b[1;33m\u001b[0m\u001b[0m\n\u001b[1;32m-> 3304\u001b[1;33m         \u001b[0mres\u001b[0m\u001b[1;33m.\u001b[0m\u001b[0mopen\u001b[0m\u001b[1;33m(\u001b[0m\u001b[0maccess_mode\u001b[0m\u001b[1;33m,\u001b[0m \u001b[0mopen_timeout\u001b[0m\u001b[1;33m)\u001b[0m\u001b[1;33m\u001b[0m\u001b[1;33m\u001b[0m\u001b[0m\n\u001b[0m\u001b[0;32m   3305\u001b[0m \u001b[1;33m\u001b[0m\u001b[0m\n\u001b[0;32m   3306\u001b[0m         \u001b[1;32mfor\u001b[0m \u001b[0mkey\u001b[0m\u001b[1;33m,\u001b[0m \u001b[0mvalue\u001b[0m \u001b[1;32min\u001b[0m \u001b[0mkwargs\u001b[0m\u001b[1;33m.\u001b[0m\u001b[0mitems\u001b[0m\u001b[1;33m(\u001b[0m\u001b[1;33m)\u001b[0m\u001b[1;33m:\u001b[0m\u001b[1;33m\u001b[0m\u001b[1;33m\u001b[0m\u001b[0m\n",
      "\u001b[1;32m~\\anaconda3\\lib\\site-packages\\pyvisa\\resources\\resource.py\u001b[0m in \u001b[0;36mopen\u001b[1;34m(self, access_mode, open_timeout)\u001b[0m\n\u001b[0;32m    295\u001b[0m             \u001b[0mconstants\u001b[0m\u001b[1;33m.\u001b[0m\u001b[0mStatusCode\u001b[0m\u001b[1;33m.\u001b[0m\u001b[0msuccess_device_not_present\u001b[0m\u001b[1;33m\u001b[0m\u001b[1;33m\u001b[0m\u001b[0m\n\u001b[0;32m    296\u001b[0m         ):\n\u001b[1;32m--> 297\u001b[1;33m             self.session, status = self._resource_manager.open_bare_resource(\n\u001b[0m\u001b[0;32m    298\u001b[0m                 \u001b[0mself\u001b[0m\u001b[1;33m.\u001b[0m\u001b[0m_resource_name\u001b[0m\u001b[1;33m,\u001b[0m \u001b[0maccess_mode\u001b[0m\u001b[1;33m,\u001b[0m \u001b[0mopen_timeout\u001b[0m\u001b[1;33m\u001b[0m\u001b[1;33m\u001b[0m\u001b[0m\n\u001b[0;32m    299\u001b[0m             )\n",
      "\u001b[1;32m~\\anaconda3\\lib\\site-packages\\pyvisa\\highlevel.py\u001b[0m in \u001b[0;36mopen_bare_resource\u001b[1;34m(self, resource_name, access_mode, open_timeout)\u001b[0m\n\u001b[0;32m   3230\u001b[0m \u001b[1;33m\u001b[0m\u001b[0m\n\u001b[0;32m   3231\u001b[0m         \"\"\"\n\u001b[1;32m-> 3232\u001b[1;33m         \u001b[1;32mreturn\u001b[0m \u001b[0mself\u001b[0m\u001b[1;33m.\u001b[0m\u001b[0mvisalib\u001b[0m\u001b[1;33m.\u001b[0m\u001b[0mopen\u001b[0m\u001b[1;33m(\u001b[0m\u001b[0mself\u001b[0m\u001b[1;33m.\u001b[0m\u001b[0msession\u001b[0m\u001b[1;33m,\u001b[0m \u001b[0mresource_name\u001b[0m\u001b[1;33m,\u001b[0m \u001b[0maccess_mode\u001b[0m\u001b[1;33m,\u001b[0m \u001b[0mopen_timeout\u001b[0m\u001b[1;33m)\u001b[0m\u001b[1;33m\u001b[0m\u001b[1;33m\u001b[0m\u001b[0m\n\u001b[0m\u001b[0;32m   3233\u001b[0m \u001b[1;33m\u001b[0m\u001b[0m\n\u001b[0;32m   3234\u001b[0m     def open_resource(\n",
      "\u001b[1;32m~\\anaconda3\\lib\\site-packages\\pyvisa\\ctwrapper\\functions.py\u001b[0m in \u001b[0;36mopen\u001b[1;34m(library, session, resource_name, access_mode, open_timeout)\u001b[0m\n\u001b[0;32m   1849\u001b[0m     \u001b[1;31m# [ViSession, ViRsrc, ViAccessMode, ViUInt32, ViPSession]\u001b[0m\u001b[1;33m\u001b[0m\u001b[1;33m\u001b[0m\u001b[0m\n\u001b[0;32m   1850\u001b[0m     \u001b[1;31m# ViRsrc converts from (str, unicode, bytes) to bytes\u001b[0m\u001b[1;33m\u001b[0m\u001b[1;33m\u001b[0m\u001b[0m\n\u001b[1;32m-> 1851\u001b[1;33m     ret = library.viOpen(\n\u001b[0m\u001b[0;32m   1852\u001b[0m         \u001b[0msession\u001b[0m\u001b[1;33m,\u001b[0m \u001b[0mresource_name\u001b[0m\u001b[1;33m,\u001b[0m \u001b[0maccess_mode\u001b[0m\u001b[1;33m,\u001b[0m \u001b[0mopen_timeout\u001b[0m\u001b[1;33m,\u001b[0m \u001b[0mbyref\u001b[0m\u001b[1;33m(\u001b[0m\u001b[0mout_session\u001b[0m\u001b[1;33m)\u001b[0m\u001b[1;33m\u001b[0m\u001b[1;33m\u001b[0m\u001b[0m\n\u001b[0;32m   1853\u001b[0m     )\n",
      "\u001b[1;32m~\\anaconda3\\lib\\site-packages\\pyvisa\\ctwrapper\\highlevel.py\u001b[0m in \u001b[0;36m_return_handler\u001b[1;34m(self, ret_value, func, arguments)\u001b[0m\n\u001b[0;32m    220\u001b[0m                 \u001b[0msession\u001b[0m \u001b[1;33m=\u001b[0m \u001b[1;32mNone\u001b[0m\u001b[1;33m\u001b[0m\u001b[1;33m\u001b[0m\u001b[0m\n\u001b[0;32m    221\u001b[0m \u001b[1;33m\u001b[0m\u001b[0m\n\u001b[1;32m--> 222\u001b[1;33m         \u001b[1;32mreturn\u001b[0m \u001b[0mself\u001b[0m\u001b[1;33m.\u001b[0m\u001b[0mhandle_return_value\u001b[0m\u001b[1;33m(\u001b[0m\u001b[0msession\u001b[0m\u001b[1;33m,\u001b[0m \u001b[0mret_value\u001b[0m\u001b[1;33m)\u001b[0m  \u001b[1;31m# type: ignore\u001b[0m\u001b[1;33m\u001b[0m\u001b[1;33m\u001b[0m\u001b[0m\n\u001b[0m\u001b[0;32m    223\u001b[0m \u001b[1;33m\u001b[0m\u001b[0m\n\u001b[0;32m    224\u001b[0m     def list_resources(\n",
      "\u001b[1;32m~\\anaconda3\\lib\\site-packages\\pyvisa\\highlevel.py\u001b[0m in \u001b[0;36mhandle_return_value\u001b[1;34m(self, session, status_code)\u001b[0m\n\u001b[0;32m    249\u001b[0m \u001b[1;33m\u001b[0m\u001b[0m\n\u001b[0;32m    250\u001b[0m         \u001b[1;32mif\u001b[0m \u001b[0mrv\u001b[0m \u001b[1;33m<\u001b[0m \u001b[1;36m0\u001b[0m\u001b[1;33m:\u001b[0m\u001b[1;33m\u001b[0m\u001b[1;33m\u001b[0m\u001b[0m\n\u001b[1;32m--> 251\u001b[1;33m             \u001b[1;32mraise\u001b[0m \u001b[0merrors\u001b[0m\u001b[1;33m.\u001b[0m\u001b[0mVisaIOError\u001b[0m\u001b[1;33m(\u001b[0m\u001b[0mrv\u001b[0m\u001b[1;33m)\u001b[0m\u001b[1;33m\u001b[0m\u001b[1;33m\u001b[0m\u001b[0m\n\u001b[0m\u001b[0;32m    252\u001b[0m \u001b[1;33m\u001b[0m\u001b[0m\n\u001b[0;32m    253\u001b[0m         \u001b[1;32mif\u001b[0m \u001b[0mrv\u001b[0m \u001b[1;32min\u001b[0m \u001b[0mself\u001b[0m\u001b[1;33m.\u001b[0m\u001b[0missue_warning_on\u001b[0m\u001b[1;33m:\u001b[0m\u001b[1;33m\u001b[0m\u001b[1;33m\u001b[0m\u001b[0m\n",
      "\u001b[1;31mVisaIOError\u001b[0m: VI_ERROR_RSRC_NFOUND (-1073807343): Insufficient location information or the requested device or resource is not present in the system."
     ]
    }
   ],
   "source": [
    "Keithley = K2401SS.K2401(dll_dir=r'C:\\WINDOWS\\system32\\visa64.dll')"
   ]
  },
  {
   "cell_type": "markdown",
   "id": "2699bacd",
   "metadata": {},
   "source": [
    "#### Re-run the cells below while changing the parameters as needed."
   ]
  },
  {
   "cell_type": "code",
   "execution_count": 15,
   "id": "370467a0",
   "metadata": {
    "scrolled": true
   },
   "outputs": [],
   "source": [
    "#####  Set all your parameters here. Excecute this code block to set the parameters. #####\n",
    "#####  Then execute the cell below to run the scan.                                  #####\n",
    "#\n",
    "# Sample and cell parameters.\n",
    "samplename = \"Silicon\"\n",
    "cellnumber = \"1\"\n",
    "cellarea = 2.0*4.0  #  0.15 # in cm^2\n",
    "\n",
    "# Voltage sweep parameters.\n",
    "startv = -0.1\n",
    "stopv = 0.65\n",
    "stepv = 0.025\n",
    "sweep_rate = \"medium\" # slow=about 1.3 steps/s, medium=5 steps/s,fast=12 steps/s (measured at 100 mV/step)\n",
    "direction = \"both\" # options are: \"forward\", \"reverse\", and \"both\"\n",
    "\n",
    "# Single scan option.\n",
    "do_single_scan = False\n",
    "\n",
    "# timeseries loop options.\n",
    "do_timeseries = True\n",
    "timeseries_interval = int(60) # interval in seconds (must be an integer)\n",
    "timeseries_duration = 1.0     # duration in hours\n",
    "\n",
    "# saving options, \n",
    "savedata = 'yes'       # ('yes'/'no') Saves the data and the plot to a file.\n",
    "saveparameters = 'yes' # ('yes'/'no') Adds the parameters to the parameters file.\n",
    "verbose = 0            # (1/0) Prints a lot of extra stuff and shows the plot."
   ]
  },
  {
   "cell_type": "code",
   "execution_count": null,
   "id": "24d1c433",
   "metadata": {
    "scrolled": false
   },
   "outputs": [
    {
     "name": "stdout",
     "output_type": "stream",
     "text": [
      "Data saved to: C:\\Users\\LabUser\\Documents\\randy\\data_010222\\Silicon_1F_150534.csv\n",
      "Plot saved to: C:\\Users\\LabUser\\Documents\\randy\\data_010222\\Silicon_1F_150534.png\n",
      "Data saved to: C:\\Users\\LabUser\\Documents\\randy\\data_010222\\Silicon_1R_150534.csv\n",
      "Plot saved to: C:\\Users\\LabUser\\Documents\\randy\\data_010222\\Silicon_1R_150534.png\n",
      "Created:  C:\\Users\\LabUser\\Documents\\randy\\data_010222\\timeseries_parameters_010222\n",
      "Appended parameters to: C:\\Users\\LabUser\\Documents\\randy\\data_010222\\timeseries_parameters_010222\n",
      "\n",
      "Sweep 0 is complete!\n",
      "Elapsed time: 5992.1\n",
      "\n"
     ]
    },
    {
     "name": "stderr",
     "output_type": "stream",
     "text": [
      "100%|██████████| 60/60 [00:59<00:00,  1.00it/s]\n"
     ]
    },
    {
     "name": "stdout",
     "output_type": "stream",
     "text": [
      "Data saved to: C:\\Users\\LabUser\\Documents\\randy\\data_010222\\Silicon_1F_150707.csv\n",
      "Plot saved to: C:\\Users\\LabUser\\Documents\\randy\\data_010222\\Silicon_1F_150707.png\n",
      "Data saved to: C:\\Users\\LabUser\\Documents\\randy\\data_010222\\Silicon_1R_150707.csv\n",
      "Plot saved to: C:\\Users\\LabUser\\Documents\\randy\\data_010222\\Silicon_1R_150707.png\n",
      "Appended parameters to: C:\\Users\\LabUser\\Documents\\randy\\data_010222\\timeseries_parameters_010222\n",
      "Appended parameters to: C:\\Users\\LabUser\\Documents\\randy\\data_010222\\timeseries_parameters_010222\n",
      "\n",
      "Sweep 1 is complete!\n",
      "Elapsed time: 6085.3\n",
      "\n"
     ]
    },
    {
     "name": "stderr",
     "output_type": "stream",
     "text": [
      "100%|██████████| 60/60 [00:59<00:00,  1.00it/s]\n"
     ]
    },
    {
     "name": "stdout",
     "output_type": "stream",
     "text": [
      "Data saved to: C:\\Users\\LabUser\\Documents\\randy\\data_010222\\Silicon_1F_150840.csv\n",
      "Plot saved to: C:\\Users\\LabUser\\Documents\\randy\\data_010222\\Silicon_1F_150840.png\n",
      "Data saved to: C:\\Users\\LabUser\\Documents\\randy\\data_010222\\Silicon_1R_150840.csv\n",
      "Plot saved to: C:\\Users\\LabUser\\Documents\\randy\\data_010222\\Silicon_1R_150840.png\n",
      "Appended parameters to: C:\\Users\\LabUser\\Documents\\randy\\data_010222\\timeseries_parameters_010222\n",
      "Appended parameters to: C:\\Users\\LabUser\\Documents\\randy\\data_010222\\timeseries_parameters_010222\n",
      "\n",
      "Sweep 2 is complete!\n",
      "Elapsed time: 6178.4\n",
      "\n"
     ]
    },
    {
     "name": "stderr",
     "output_type": "stream",
     "text": [
      "100%|██████████| 60/60 [00:59<00:00,  1.00it/s]\n"
     ]
    },
    {
     "name": "stdout",
     "output_type": "stream",
     "text": [
      "Data saved to: C:\\Users\\LabUser\\Documents\\randy\\data_010222\\Silicon_1F_151013.csv\n",
      "Plot saved to: C:\\Users\\LabUser\\Documents\\randy\\data_010222\\Silicon_1F_151013.png\n",
      "Data saved to: C:\\Users\\LabUser\\Documents\\randy\\data_010222\\Silicon_1R_151013.csv\n",
      "Plot saved to: C:\\Users\\LabUser\\Documents\\randy\\data_010222\\Silicon_1R_151013.png\n",
      "Appended parameters to: C:\\Users\\LabUser\\Documents\\randy\\data_010222\\timeseries_parameters_010222\n",
      "Appended parameters to: C:\\Users\\LabUser\\Documents\\randy\\data_010222\\timeseries_parameters_010222\n",
      "\n",
      "Sweep 3 is complete!\n",
      "Elapsed time: 6271.4\n",
      "\n"
     ]
    },
    {
     "name": "stderr",
     "output_type": "stream",
     "text": [
      "100%|██████████| 60/60 [00:59<00:00,  1.00it/s]\n"
     ]
    },
    {
     "name": "stdout",
     "output_type": "stream",
     "text": [
      "Data saved to: C:\\Users\\LabUser\\Documents\\randy\\data_010222\\Silicon_1F_151146.csv\n",
      "Plot saved to: C:\\Users\\LabUser\\Documents\\randy\\data_010222\\Silicon_1F_151146.png\n",
      "Data saved to: C:\\Users\\LabUser\\Documents\\randy\\data_010222\\Silicon_1R_151146.csv\n",
      "Plot saved to: C:\\Users\\LabUser\\Documents\\randy\\data_010222\\Silicon_1R_151146.png\n",
      "Appended parameters to: C:\\Users\\LabUser\\Documents\\randy\\data_010222\\timeseries_parameters_010222\n",
      "Appended parameters to: C:\\Users\\LabUser\\Documents\\randy\\data_010222\\timeseries_parameters_010222\n",
      "\n",
      "Sweep 4 is complete!\n",
      "Elapsed time: 6364.5\n",
      "\n"
     ]
    },
    {
     "name": "stderr",
     "output_type": "stream",
     "text": [
      "100%|██████████| 60/60 [00:59<00:00,  1.00it/s]\n"
     ]
    },
    {
     "name": "stdout",
     "output_type": "stream",
     "text": [
      "Data saved to: C:\\Users\\LabUser\\Documents\\randy\\data_010222\\Silicon_1F_151319.csv\n",
      "Plot saved to: C:\\Users\\LabUser\\Documents\\randy\\data_010222\\Silicon_1F_151319.png\n",
      "Data saved to: C:\\Users\\LabUser\\Documents\\randy\\data_010222\\Silicon_1R_151319.csv\n",
      "Plot saved to: C:\\Users\\LabUser\\Documents\\randy\\data_010222\\Silicon_1R_151319.png\n",
      "Appended parameters to: C:\\Users\\LabUser\\Documents\\randy\\data_010222\\timeseries_parameters_010222\n",
      "Appended parameters to: C:\\Users\\LabUser\\Documents\\randy\\data_010222\\timeseries_parameters_010222\n",
      "\n",
      "Sweep 5 is complete!\n",
      "Elapsed time: 6457.5\n",
      "\n"
     ]
    },
    {
     "name": "stderr",
     "output_type": "stream",
     "text": [
      "100%|██████████| 60/60 [00:59<00:00,  1.00it/s]\n"
     ]
    },
    {
     "name": "stdout",
     "output_type": "stream",
     "text": [
      "Data saved to: C:\\Users\\LabUser\\Documents\\randy\\data_010222\\Silicon_1F_151452.csv\n",
      "Plot saved to: C:\\Users\\LabUser\\Documents\\randy\\data_010222\\Silicon_1F_151452.png\n",
      "Data saved to: C:\\Users\\LabUser\\Documents\\randy\\data_010222\\Silicon_1R_151452.csv\n",
      "Plot saved to: C:\\Users\\LabUser\\Documents\\randy\\data_010222\\Silicon_1R_151452.png\n",
      "Appended parameters to: C:\\Users\\LabUser\\Documents\\randy\\data_010222\\timeseries_parameters_010222\n",
      "Appended parameters to: C:\\Users\\LabUser\\Documents\\randy\\data_010222\\timeseries_parameters_010222\n",
      "\n",
      "Sweep 6 is complete!\n",
      "Elapsed time: 6550.5\n",
      "\n"
     ]
    },
    {
     "name": "stderr",
     "output_type": "stream",
     "text": [
      "100%|██████████| 60/60 [00:59<00:00,  1.00it/s]\n"
     ]
    },
    {
     "name": "stdout",
     "output_type": "stream",
     "text": [
      "Data saved to: C:\\Users\\LabUser\\Documents\\randy\\data_010222\\Silicon_1F_151625.csv\n",
      "Plot saved to: C:\\Users\\LabUser\\Documents\\randy\\data_010222\\Silicon_1F_151625.png\n",
      "Data saved to: C:\\Users\\LabUser\\Documents\\randy\\data_010222\\Silicon_1R_151625.csv\n",
      "Plot saved to: C:\\Users\\LabUser\\Documents\\randy\\data_010222\\Silicon_1R_151625.png\n",
      "Appended parameters to: C:\\Users\\LabUser\\Documents\\randy\\data_010222\\timeseries_parameters_010222\n",
      "Appended parameters to: C:\\Users\\LabUser\\Documents\\randy\\data_010222\\timeseries_parameters_010222\n",
      "\n",
      "Sweep 7 is complete!\n",
      "Elapsed time: 6643.4\n",
      "\n"
     ]
    },
    {
     "name": "stderr",
     "output_type": "stream",
     "text": [
      "100%|██████████| 60/60 [00:59<00:00,  1.00it/s]\n"
     ]
    },
    {
     "name": "stdout",
     "output_type": "stream",
     "text": [
      "Data saved to: C:\\Users\\LabUser\\Documents\\randy\\data_010222\\Silicon_1F_151758.csv\n",
      "Plot saved to: C:\\Users\\LabUser\\Documents\\randy\\data_010222\\Silicon_1F_151758.png\n",
      "Data saved to: C:\\Users\\LabUser\\Documents\\randy\\data_010222\\Silicon_1R_151758.csv\n",
      "Plot saved to: C:\\Users\\LabUser\\Documents\\randy\\data_010222\\Silicon_1R_151758.png\n",
      "Appended parameters to: C:\\Users\\LabUser\\Documents\\randy\\data_010222\\timeseries_parameters_010222\n",
      "Appended parameters to: C:\\Users\\LabUser\\Documents\\randy\\data_010222\\timeseries_parameters_010222\n",
      "\n",
      "Sweep 8 is complete!\n",
      "Elapsed time: 6736.4\n",
      "\n"
     ]
    },
    {
     "name": "stderr",
     "output_type": "stream",
     "text": [
      "100%|██████████| 60/60 [00:59<00:00,  1.00it/s]\n"
     ]
    },
    {
     "name": "stdout",
     "output_type": "stream",
     "text": [
      "Data saved to: C:\\Users\\LabUser\\Documents\\randy\\data_010222\\Silicon_1F_151931.csv\n",
      "Plot saved to: C:\\Users\\LabUser\\Documents\\randy\\data_010222\\Silicon_1F_151931.png\n",
      "Data saved to: C:\\Users\\LabUser\\Documents\\randy\\data_010222\\Silicon_1R_151931.csv\n",
      "Plot saved to: C:\\Users\\LabUser\\Documents\\randy\\data_010222\\Silicon_1R_151931.png\n",
      "Appended parameters to: C:\\Users\\LabUser\\Documents\\randy\\data_010222\\timeseries_parameters_010222\n",
      "Appended parameters to: C:\\Users\\LabUser\\Documents\\randy\\data_010222\\timeseries_parameters_010222\n",
      "\n",
      "Sweep 9 is complete!\n",
      "Elapsed time: 6829.4\n",
      "\n"
     ]
    },
    {
     "name": "stderr",
     "output_type": "stream",
     "text": [
      "100%|██████████| 60/60 [00:59<00:00,  1.00it/s]\n"
     ]
    },
    {
     "name": "stdout",
     "output_type": "stream",
     "text": [
      "Data saved to: C:\\Users\\LabUser\\Documents\\randy\\data_010222\\Silicon_1F_152104.csv\n",
      "Plot saved to: C:\\Users\\LabUser\\Documents\\randy\\data_010222\\Silicon_1F_152104.png\n",
      "Data saved to: C:\\Users\\LabUser\\Documents\\randy\\data_010222\\Silicon_1R_152104.csv\n",
      "Plot saved to: C:\\Users\\LabUser\\Documents\\randy\\data_010222\\Silicon_1R_152104.png\n",
      "Appended parameters to: C:\\Users\\LabUser\\Documents\\randy\\data_010222\\timeseries_parameters_010222\n",
      "Appended parameters to: C:\\Users\\LabUser\\Documents\\randy\\data_010222\\timeseries_parameters_010222\n",
      "\n",
      "Sweep 10 is complete!\n",
      "Elapsed time: 6922.5\n",
      "\n"
     ]
    },
    {
     "name": "stderr",
     "output_type": "stream",
     "text": [
      "100%|██████████| 60/60 [00:59<00:00,  1.00it/s]\n"
     ]
    },
    {
     "name": "stdout",
     "output_type": "stream",
     "text": [
      "Data saved to: C:\\Users\\LabUser\\Documents\\randy\\data_010222\\Silicon_1F_152238.csv\n",
      "Plot saved to: C:\\Users\\LabUser\\Documents\\randy\\data_010222\\Silicon_1F_152238.png\n",
      "Data saved to: C:\\Users\\LabUser\\Documents\\randy\\data_010222\\Silicon_1R_152238.csv\n",
      "Plot saved to: C:\\Users\\LabUser\\Documents\\randy\\data_010222\\Silicon_1R_152238.png\n",
      "Appended parameters to: C:\\Users\\LabUser\\Documents\\randy\\data_010222\\timeseries_parameters_010222\n",
      "Appended parameters to: C:\\Users\\LabUser\\Documents\\randy\\data_010222\\timeseries_parameters_010222\n",
      "\n",
      "Sweep 11 is complete!\n",
      "Elapsed time: 7015.6\n",
      "\n"
     ]
    },
    {
     "name": "stderr",
     "output_type": "stream",
     "text": [
      "100%|██████████| 60/60 [00:59<00:00,  1.00it/s]\n"
     ]
    },
    {
     "name": "stdout",
     "output_type": "stream",
     "text": [
      "Data saved to: C:\\Users\\LabUser\\Documents\\randy\\data_010222\\Silicon_1F_152411.csv\n",
      "Plot saved to: C:\\Users\\LabUser\\Documents\\randy\\data_010222\\Silicon_1F_152411.png\n",
      "Data saved to: C:\\Users\\LabUser\\Documents\\randy\\data_010222\\Silicon_1R_152411.csv\n",
      "Plot saved to: C:\\Users\\LabUser\\Documents\\randy\\data_010222\\Silicon_1R_152411.png\n",
      "Appended parameters to: C:\\Users\\LabUser\\Documents\\randy\\data_010222\\timeseries_parameters_010222\n",
      "Appended parameters to: C:\\Users\\LabUser\\Documents\\randy\\data_010222\\timeseries_parameters_010222\n",
      "\n",
      "Sweep 12 is complete!\n",
      "Elapsed time: 7108.8\n",
      "\n"
     ]
    },
    {
     "name": "stderr",
     "output_type": "stream",
     "text": [
      "100%|██████████| 60/60 [00:59<00:00,  1.00it/s]\n"
     ]
    },
    {
     "name": "stdout",
     "output_type": "stream",
     "text": [
      "Data saved to: C:\\Users\\LabUser\\Documents\\randy\\data_010222\\Silicon_1F_152544.csv\n",
      "Plot saved to: C:\\Users\\LabUser\\Documents\\randy\\data_010222\\Silicon_1F_152544.png\n",
      "Data saved to: C:\\Users\\LabUser\\Documents\\randy\\data_010222\\Silicon_1R_152544.csv\n",
      "Plot saved to: C:\\Users\\LabUser\\Documents\\randy\\data_010222\\Silicon_1R_152544.png\n",
      "Appended parameters to: C:\\Users\\LabUser\\Documents\\randy\\data_010222\\timeseries_parameters_010222\n",
      "Appended parameters to: C:\\Users\\LabUser\\Documents\\randy\\data_010222\\timeseries_parameters_010222\n",
      "\n",
      "Sweep 13 is complete!\n",
      "Elapsed time: 7201.8\n",
      "\n"
     ]
    },
    {
     "name": "stderr",
     "output_type": "stream",
     "text": [
      " 17%|█▋        | 10/60 [00:10<00:50,  1.00s/it]"
     ]
    }
   ],
   "source": [
    "########################## This is the main script. ###################################################\n",
    "########################## Double check your parameters before you run it! ############################\n",
    "########################## Also make sure the Keithley unit was discovered and it is responding.#######\n",
    "#######################################################################################################\n",
    "#\n",
    "# Single scan includes dark and light sweeps, and may also include both forward and reverse sweeps.\n",
    "# Single scan has priority over timeseries.\n",
    "if (do_single_scan == True):\n",
    "    numscans = 1\n",
    "elif (do_timeseries == True):\n",
    "    numscans = int(np.ceil(3600*timeseries_duration/timeseries_interval)) + 1\n",
    "else:\n",
    "    numscans = 0\n",
    "#\n",
    "# The main loop starts here.\n",
    "#\n",
    "for myint in range(numscans):\n",
    "    # do the scan\n",
    "    if(direction == \"reverse\"):\n",
    "        fig_R, df_R = Keithley.dark_light_IVsweep(stopv, startv, -stepv, rate=sweep_rate, \n",
    "                                          area=cellarea, plottitle=samplename+\"_\"+cellnumber+\"R\", verbose=verbose)\n",
    "    elif (direction == \"both\"):\n",
    "        fig_F, df_F = Keithley.dark_light_IVsweep(startv, stopv, stepv, rate=sweep_rate, \n",
    "                                          area=cellarea, plottitle=samplename+\"_\"+cellnumber+\"F\", verbose=verbose)\n",
    "        fig_R, df_R = Keithley.dark_light_IVsweep(stopv, startv, -stepv, rate=sweep_rate, \n",
    "                                          area=cellarea, plottitle=samplename+\"_\"+cellnumber+\"R\", verbose=verbose)\n",
    "    else:\n",
    "        fig_F, df_F = Keithley.dark_light_IVsweep(startv, stopv, stepv, rate=sweep_rate, \n",
    "                                          area=cellarea, plottitle=samplename+\"_\"+cellnumber+\"F\", verbose=verbose)\n",
    "   \n",
    "    # record the current time\n",
    "    timenow = datetime.now()\n",
    "    timenowstr = timenow.strftime(\"%H%M%S\")    \n",
    "    datetodaystr = today.strftime(\"%m%d%y\")\n",
    "    # Save the data\n",
    "    if (savedata != 'no'):\n",
    "        if(direction == \"reverse\"):\n",
    "            Keithley.save_data_and_plot(df_R, fig_R, path = path, samplename = samplename, \n",
    "                                        cellnumber = cellnumber+\"R\", timenowstr = timenowstr)\n",
    "        elif (direction == \"both\"):\n",
    "            Keithley.save_data_and_plot(df_F, fig_F, path = path, samplename = samplename, \n",
    "                                    cellnumber = cellnumber+\"F\", timenowstr = timenowstr)\n",
    "            Keithley.save_data_and_plot(df_R, fig_R, path = path, samplename = samplename, \n",
    "                                        cellnumber = cellnumber+\"R\", timenowstr = timenowstr)\n",
    "        else:\n",
    "            Keithley.save_data_and_plot(df_F, fig_F, path = path, samplename = samplename, \n",
    "                                    cellnumber = cellnumber+\"F\", timenowstr = timenowstr)\n",
    "    else:\n",
    "        print(\"Data NOT saved.\")\n",
    "        \n",
    "    ####  Calculate and save the PV parameters.\n",
    "    # Calculate V_OC, J_SC, R_Sh, R_Ser, FF, PCE and save them to a common \"parameters\" file.\n",
    "    if(direction == \"reverse\"):\n",
    "        par_df_new_R = Keithley.calc_and_save_parameters(df_R,  path = path, \n",
    "                                samplename = samplename, cellnumber = cellnumber+\"R\", \n",
    "                                timenowstr = timenowstr, datetodaystr = datetodaystr,\n",
    "                                saveparameters = saveparameters, verbose=verbose,\n",
    "                                timeseries = do_timeseries, base_t = base_t) \n",
    "    elif (direction == \"both\"):\n",
    "        par_df_new_F = Keithley.calc_and_save_parameters(df_F,  path = path, \n",
    "                                samplename = samplename, cellnumber = cellnumber+\"F\", \n",
    "                                timenowstr = timenowstr, datetodaystr = datetodaystr,\n",
    "                                saveparameters = saveparameters, verbose=verbose,                         \n",
    "                                timeseries = do_timeseries, base_t = base_t) \n",
    "        par_df_new_R = Keithley.calc_and_save_parameters(df_R,  path = path, \n",
    "                                samplename = samplename, cellnumber = cellnumber+\"R\", \n",
    "                                timenowstr = timenowstr, datetodaystr = datetodaystr,\n",
    "                                saveparameters = saveparameters, verbose=verbose,                      \n",
    "                                timeseries = do_timeseries, base_t = base_t) \n",
    "    else:\n",
    "        par_df_new_F = Keithley.calc_and_save_parameters(df_F,  path = path, \n",
    "                                samplename = samplename, cellnumber = cellnumber+\"F\", \n",
    "                                timenowstr = timenowstr, datetodaystr = datetodaystr,\n",
    "                                saveparameters = saveparameters, verbose=verbose, \n",
    "                                timeseries = do_timeseries, base_t = base_t) \n",
    "    \n",
    "    # Delay before the next sweep.\n",
    "    # tqdm displays a progress bar during the sleep time.\n",
    "    print(\"\\nSweep {} is complete!\".format(myint))\n",
    "    print(\"Elapsed time: {:.1f}\\n\".format(time.time()-base_t))\n",
    "    if (myint < (numscans-2)):\n",
    "        for i in tqdm(range(timeseries_interval)):\n",
    "            time.sleep(0.99)"
   ]
  },
  {
   "cell_type": "markdown",
   "id": "66abf3d3",
   "metadata": {},
   "source": [
    "####  You can still view the results if you ran the scan with verbose=0. Use the code block below.\n",
    "\n",
    "Note: This will only display result for the last scan done."
   ]
  },
  {
   "cell_type": "code",
   "execution_count": 14,
   "id": "06ace239",
   "metadata": {
    "scrolled": false
   },
   "outputs": [
    {
     "name": "stdout",
     "output_type": "stream",
     "text": [
      "\n",
      "         Sample_Cell#             V_oc(V)   J_sc(mA)       R_sh     R_ser  \\\n",
      "0  Silicon_1F_150412  0.5610153723416533  33.509625  65.645865  11.63243   \n",
      "\n",
      "         FF   PCE(%)  \n",
      "0  0.332885  5.03772  \n",
      "\n",
      "         Sample_Cell#             V_oc(V)   J_sc(mA)       R_sh      R_ser  \\\n",
      "0  Silicon_1R_150412  0.5840374122505461  33.795812  76.404435  11.884419   \n",
      "\n",
      "        FF    PCE(%)  \n",
      "0  0.33704  5.355262  \n"
     ]
    },
    {
     "data": {
      "image/png": "[encoded data removed]",
      "text/plain": [
       "<Figure size 432x288 with 1 Axes>"
      ]
     },
     "metadata": {},
     "output_type": "display_data"
    },
    {
     "data": {
      "image/png": "[encoded data removed]",
      "text/plain": [
       "<Figure size 432x288 with 1 Axes>"
      ]
     },
     "metadata": {},
     "output_type": "display_data"
    }
   ],
   "source": [
    "# Display the single scan results or for the last scan of a timeseries.\n",
    "if (do_single_scan):\n",
    "    if(direction == \"reverse\"):\n",
    "        print(\"\\n\", par_df_new_R)\n",
    "        display(fig_R)\n",
    "    elif (direction == \"both\"):\n",
    "        print(\"\\n\", par_df_new_F)\n",
    "        print(\"\\n\", par_df_new_R)\n",
    "        display(fig_F)\n",
    "        display(fig_R)\n",
    "    else:\n",
    "        print(\"\\n\", par_df_new_F)\n",
    "        display(fig_F)"
   ]
  },
  {
   "cell_type": "code",
   "execution_count": null,
   "id": "9296ab90",
   "metadata": {},
   "outputs": [],
   "source": []
  }
 ],
 "metadata": {
  "kernelspec": {
   "display_name": "Python 3 (ipykernel)",
   "language": "python",
   "name": "python3"
  },
  "language_info": {
   "codemirror_mode": {
    "name": "ipython",
    "version": 3
   },
   "file_extension": ".py",
   "mimetype": "text/x-python",
   "name": "python",
   "nbconvert_exporter": "python",
   "pygments_lexer": "ipython3",
   "version": "3.9.7"
  }
 },
 "nbformat": 4,
 "nbformat_minor": 5
}
