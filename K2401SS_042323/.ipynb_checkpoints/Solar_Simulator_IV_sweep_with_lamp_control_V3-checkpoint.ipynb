{
 "cells": [
  {
   "cell_type": "markdown",
   "id": "b017fc2c",
   "metadata": {},
   "source": [
    "#  Newport LSH-7320 Solar Simulator IV sweep\n",
    "\n",
    "#### V2 for both single sweep PV testing and multi-sweep degradation testing.\n",
    "#### V3 Added: lamp intensity parameter; manual lamp control options;  mmp tracking\n",
    "\n",
    "To prepare, check the following:\n",
    "\n",
    "* Turn the Keithley 2401 meter on and plug the KUSB488 into the USB hub.\n",
    "* Also plug the Labjack unit into the USB hub and the FIO4 output of the Labjack to the trigger of the LSH-7320.\n",
    "* Plug the USB hub into your computer.  Make sure each USB channel is on and each device mounts.\n",
    "\n",
    "Some specifics of the code:\n",
    "\n",
    "* Use the OS commands below to navigate to the directory where you want to save the data.\n",
    "* Put this script and the K2401SS.py library in the current working directory (cwd).\n",
    "* If you are not sure what the cwd is, use ```os.getcwd()``` to find out. ```%pwd``` also returns the cwd.\n",
    "* Run code block 5 below. A \"\\data_mmddyy\" directory will be automatically created within the cwd.\n",
    "* Run code block 7: ```Keithley = K2401SS.K2401(dll_dir=r'C:\\WINDOWS\\system32\\visa64.dll')```\n",
    "    * If the Keithley unit is found it returns: ```KEITHLEY INSTRUMENTS INC.,MODEL 2401,1370363,A01 Aug 25 2011 12:57:43/A02  /S/K```\n",
    "* Run the code cells below the line \"Re-run the cells below while changing the parameters as needed.\".\n",
    "* Change the sample name, cell number, etc. and re-run as needed.\n",
    "* The data is automatically saved in .csv files and a plot generated/saved after each sweep. \n",
    "* A time code (HHMMSS) is appended to the sample name to avoid overwiting the data from the same sample and cell.\n",
    "* A parameters file is created and added to for each \"\\data\" folder.\n",
    "\n",
    "Path and filename:\n",
    "* The path to the data folder is ```path = os.getcwd() + \"\\data_\" + today.strftime(\"%m%d%y\")```\n",
    "* There are three kinds of files associated with each scan. Their names are built from the sample name, the cell number, the scan direction (\"F\" or \"R\"), and the time (HHMMSS).  The parameters file name has the date appended (mmddyy).\n",
    "* A special timeseries parameter file is created for timeseries scans, as described below.\n",
    "\n",
    "Sample and cell parameters:\n",
    "* ```samplename = \"Silicon\"``` Name of you sample.\n",
    "* ```cellnumber = \"1\"```       Cell number (in string format).\n",
    "* ```cellarea = 2.0*4.0```     Cell area or mask area in cm$^2$.\n",
    "\n",
    "Voltage sweep parameters:\n",
    "* ```startv = -0.1```         Sweep start voltage.\n",
    "* ```stopv = 0.65```          Sweep stop voltage.\n",
    "* ```stepv = 0.025```         Sweep step size.\n",
    "* ```sweep_rate = \"medium\"``` slow=about 1.3 steps/s, medium=5 steps/s,fast=12 steps/s. Note that ```stepv``` also affects the sweep rate in mV/s.\n",
    "* ```direction = \"both\"``` options are: (\"forward\", \"reverse\", and \"both\"). Selecting \"both\" results in four sweeps since dark and light sweeps are done in each direction. Selecting \"forward\" or \"reverse\" result in two sweeps, one dark and one light.\n",
    "\n",
    "Single scan option:\n",
    "* ```do_single_scan = True``` (True/False) Single scan takes priority. Set this option to ```False``` to run a timeseries.\n",
    "* Set the other parameters in code block 9 as needed.\n",
    "* Pro Tip: It may be more convenient to use \"Restart & Run All\" from the Kernel menu after updating the parameters instead of executing each cell individually.\n",
    "\n",
    "Multiple sweeps for degradation testing:\n",
    "\n",
    "* Set ```do_timeseries = True``` and ```do_single_scan = False```.\n",
    "* Set the other parameters in code block 9 as needed.\n",
    "* Use the companion script \"IV_sweep_Timeseries_Monitor_V1.ipynb\" to view a continually updated plot of the timeseries.\n",
    "    * Make sure the ```path``` and ```filename``` variables are set correctly. \n",
    "    * The filname should have the form \"timeseries_parameters_mmddyy\". It will be automatically created by this script.\n",
    "\n",
    "Timeseries loop options:\n",
    "* ```do_timeseries = False```         (True/False) Set this option to ```True``` to run a time series.\n",
    "* ```timeseries_interval = int(60)``` interval in seconds. (must be an integer)\n",
    "* ```timeseries_duration = 1.0```     duration in hours. (float)\n",
    "\n",
    "Saving and printing options:\n",
    "* ```savedata = 'yes'```       ('yes'/'no') Saves the data and the plot to a file.\n",
    "* ```saveparameters = 'yes'``` ('yes'/'no') Adds the parameters to the parameters file.\n",
    "* ```verbose = 1```            (1/0) Prints a lot of extra stuff and shows the plot.\n",
    "\n",
    "\n",
    "\n",
    "For Labjack code examples, consult the source code at https://github.com/labjack/LabJackPython/blob/master/src/u\n",
    "\n",
    "###### V2 last updated 1/1/2022 RLH.\n",
    "\n",
    "###### V3 New capabilities\n",
    "\n",
    "Lamp intensity parameters:\n",
    "* ```I_ph = 1.00```            (normally 0.80-1.00) Correct for lamp intensity and spectral mismatch factors. \n",
    "\n",
    "Lamp control:\n",
    "* ```labjack = True```       (True/False) Set to True to control the lamp with the LabJack U3 device.\n",
    "* ```do_dark_sweep = True``` (True/False) Set to True to enable dark sweeps. If False they will be skipped and the lamp will always be on.\n",
    "* ```burnintime = 10```      (Time in sec.) Burn in time in seconds with the lamp on before the sweep starts. \n",
    " \n",
    "Maximum power point tracking:\n",
    "* ```mpp_tracking_mode = True```   (True/False) Set to True to set the voltage to mpp_V after each sweep.\n",
    "* ```mpp_default  = \"0.3\"```       (Must be a string)  Intial guess for the mpp voltage. [Volts] \n",
    "\n",
    "##### V3 last updated on 5/6/2023 RLH."
   ]
  },
  {
   "cell_type": "code",
   "execution_count": 1,
   "id": "43458011",
   "metadata": {},
   "outputs": [],
   "source": [
    "import os\n",
    "from datetime import date, datetime\n",
    "import time"
   ]
  },
  {
   "cell_type": "code",
   "execution_count": 2,
   "id": "9d5e6948",
   "metadata": {},
   "outputs": [
    {
     "data": {
      "text/plain": [
       "'C:\\\\Users\\\\randy\\\\Documents\\\\mypy\\\\K2401SS_042323'"
      ]
     },
     "execution_count": 2,
     "metadata": {},
     "output_type": "execute_result"
    }
   ],
   "source": [
    "%pwd"
   ]
  },
  {
   "cell_type": "code",
   "execution_count": 3,
   "id": "f4157222",
   "metadata": {},
   "outputs": [
    {
     "name": "stdout",
     "output_type": "stream",
     "text": [
      "C:\\Users\\LabUser\\Documents\\randy\n"
     ]
    }
   ],
   "source": [
    "# %cd '/home/rheadrick/Documents/PHYS202_2023/Group'\n",
    "#%cd '/home/rheadrick/Documents/PHYS202_2023/GroupA'\n",
    "#%cd '/home/rheadrick/Documents/Randy'\n",
    "#%cd '/home/rheadrick/Documents/PHYS202_2023/GroupD'\n",
    "%cd \"C:\\Users\\LabUser\\Documents\\randy\""
   ]
  },
  {
   "cell_type": "code",
   "execution_count": 4,
   "id": "e3504fc5",
   "metadata": {
    "scrolled": false
   },
   "outputs": [
    {
     "name": "stdout",
     "output_type": "stream",
     "text": [
      " Volume in drive C is Windows-SSD\n",
      " Volume Serial Number is 382C-13F4\n",
      "\n",
      " Directory of C:\\Users\\LabUser\\Documents\\randy\n",
      "\n",
      "05/07/2023  12:02 AM    <DIR>          .\n",
      "03/20/2023  11:54 AM    <DIR>          ..\n",
      "03/08/2023  12:34 PM    <DIR>          .ipynb_checkpoints\n",
      "03/20/2022  02:32 PM    <DIR>          __pycache__\n",
      "01/02/2022  05:13 PM    <DIR>          data_010222\n",
      "03/08/2023  12:34 PM    <DIR>          data_010223\n",
      "01/14/2022  12:52 PM    <DIR>          data_010322\n",
      "02/23/2023  05:56 PM    <DIR>          Data_022323\n",
      "03/08/2023  12:33 PM    <DIR>          data_030823\n",
      "04/30/2023  10:59 PM    <DIR>          data_043023\n",
      "05/01/2023  11:58 PM    <DIR>          data_050123\n",
      "05/03/2023  12:29 AM    <DIR>          data_050323\n",
      "05/06/2023  02:35 PM    <DIR>          data_050523\n",
      "05/06/2023  05:12 PM    <DIR>          data_050623\n",
      "05/07/2023  12:02 AM    <DIR>          data_050723\n",
      "01/02/2022  05:18 PM            95,504 IV_sweep_Timescan_Monitor_V1 - Copy.ipynb\n",
      "04/23/2023  10:25 PM           392,031 IV_sweep_Timescan_Monitor_V1.ipynb\n",
      "03/20/2022  02:18 PM            15,157 K2401SS.py\n",
      "04/30/2023  05:30 PM    <DIR>          Pramod_script_and_data\n",
      "01/02/2022  04:00 PM             2,493 Solar_cell_IV_sweep_setup_instructions - Copy.txt\n",
      "01/02/2022  04:00 PM             2,493 Solar_cell_IV_sweep_setup_instructions.txt\n",
      "03/08/2023  12:56 PM            41,721 Solar_Simulator_IV_sweep_with_lamp_control_V2 - Copy.ipynb\n",
      "04/23/2023  10:25 PM         2,959,175 Solar_Simulator_IV_sweep_with_lamp_control_V2.ipynb\n",
      "01/02/2022  04:01 PM             1,841 Untitled.ipynb\n",
      "01/04/2022  05:13 PM                72 Untitled1.ipynb\n",
      "               9 File(s)      3,510,487 bytes\n",
      "              16 Dir(s)  173,846,732,800 bytes free\n"
     ]
    }
   ],
   "source": [
    "%ls"
   ]
  },
  {
   "cell_type": "code",
   "execution_count": 5,
   "id": "198b5f7a",
   "metadata": {},
   "outputs": [
    {
     "data": {
      "text/plain": [
       "'C:\\\\Users\\\\LabUser\\\\Documents\\\\randy'"
      ]
     },
     "execution_count": 5,
     "metadata": {},
     "output_type": "execute_result"
    }
   ],
   "source": [
    "os.getcwd() "
   ]
  },
  {
   "cell_type": "code",
   "execution_count": 6,
   "id": "d692ce81",
   "metadata": {},
   "outputs": [
    {
     "name": "stdout",
     "output_type": "stream",
     "text": [
      "The directory C:\\Users\\LabUser\\Documents\\randy\\data_050723  already exists.\n",
      "base_t for timeseries scans =1683432122.072938\n"
     ]
    }
   ],
   "source": [
    "today = date.today()\n",
    "#today = date(2023, 4, 9)\n",
    "#path = os.getcwd() + \"_\" +today.strftime(\"%m%d%y\")\n",
    "path = os.getcwd() + \"\\data_\" + today.strftime(\"%m%d%y\")\n",
    "\n",
    "# Check whether the specified path exists or not\n",
    "isExist = os.path.exists(path)\n",
    "\n",
    "if not isExist:\n",
    "  # Create a new directory if it doesn't already exist \n",
    "    os.makedirs(path)\n",
    "    base_t = time.time()  # save the base time when the directory is created\n",
    "    f = open(path + \"\\\\basetime.dat\", \"w+\")\n",
    "    print(\"{:.9f}\\n\".format(base_t), file=f)\n",
    "    f.close()\n",
    "    print(\"The directory\", path, \" is created!\")\n",
    "    print(\"base_t for timeseries scans =\" + str(base_t))\n",
    "else:\n",
    "    f = open(path + \"\\\\basetime.dat\", \"r\")\n",
    "    base_t = float(f.read(17))\n",
    "    f.close()\n",
    "    print(\"The directory\", path, \" already exists.\")\n",
    "    print(\"base_t for timeseries scans =\" + str(base_t))"
   ]
  },
  {
   "cell_type": "code",
   "execution_count": 8,
   "id": "d87eca27",
   "metadata": {
    "scrolled": true
   },
   "outputs": [],
   "source": [
    "import numpy as np\n",
    "from scipy.interpolate import interp1d\n",
    "import pandas as pd\n",
    "import matplotlib.pyplot as plt\n",
    "import sys\n",
    "import K2401SS # K2401 Solar Simulator package\n",
    "from IPython.display import display\n",
    "from tqdm import tqdm"
   ]
  },
  {
   "cell_type": "code",
   "execution_count": null,
   "id": "26cbc9ac",
   "metadata": {
    "scrolled": false
   },
   "outputs": [],
   "source": [
    "# dll_dir=r'C:\\WINDOWS\\system32\\visa64.dll' # This is the default in case dll_dir is not specified.\n",
    "#dll_dir=r'/usr/lib/x86_64-linux-gnu/libivivisa.so'  # For Ubuntu Linux\n",
    "dll_dir=r'C:\\WINDOWS\\system32\\visa64.dll'            # For Windows\n",
    "\n",
    "# Maximum power point tracking\n",
    "mpp_tracking_mode = True  # Set to True to set the voltage to mpp_V after each sweep.\n",
    "mpp_default  = \"0.3\" # Must be a string.  Intial guess for the mpp.\n",
    "\n",
    "if(mpp_tracking_mode):\n",
    "    Keithley = K2401SS_V3.K2401(dll_dir=dll_dir, mpp_V=mpp_default)\n",
    "else:\n",
    "    Keithley = K2401SS_V3.K2401(dll_dir=dll_dir)"
   ]
  },
  {
   "cell_type": "markdown",
   "id": "870171f1",
   "metadata": {},
   "source": [
    "#### Re-run the cells below while changing the parameters as needed."
   ]
  },
  {
   "cell_type": "code",
   "execution_count": null,
   "id": "482bdcf4",
   "metadata": {
    "scrolled": true
   },
   "outputs": [],
   "source": [
    "#####  Set all your parameters here. Excecute this code block to set the parameters. #####\n",
    "#####  Then execute the cell below to run the scan.                                  #####\n",
    "#\n",
    "# Sample and cell parameters.\n",
    "samplename = \"T1\"\n",
    "cellnumber = \"1\"\n",
    "cellarea = 0.15 # cm^2\n",
    "\n",
    "# Voltage sweep parameters.\n",
    "startv = -0.50 # -0.25\n",
    "stopv = 1.25 # 1.25\n",
    "stepv = 0.025\n",
    "sweep_rate = \"fast\" # slow=about 1.3 steps/s, medium=5 steps/s,fast=12 steps/s (measured at 100 mV/step)\n",
    "direction = \"both\" # options are: \"forward\", \"reverse\", and \"both\"\n",
    "\n",
    "# Single scan option.\n",
    "do_single_scan = False\n",
    "\n",
    "# timeseries loop options.\n",
    "do_timeseries = True\n",
    "timeseries_interval = int(1*60) # interval in seconds (must be an integer)\n",
    "timeseries_duration = 1.0/30.0     # duration in hours\n",
    "\n",
    "# Lamp control\n",
    "labjack = False # Set to True to control the lamp with the LabJack U3 device.\n",
    "do_dark_sweeps = False # Set to True to enable dark sweeps. If False they will be skipped.\n",
    "burnintime = 3 # Burn in time in seconds with the lamp on before the sweep starts. \n",
    "\n",
    "# saving options, \n",
    "savedata = 'yes'       # ('yes'/'no') Saves the data and the plot to a file.\n",
    "saveparameters = 'yes' # ('yes'/'no') Adds the parameters to the parameters file.\n",
    "verbose = 1            # (1/0) Prints a lot of extra stuff and shows the plot.\n",
    "\n",
    "# Lamp intensity parameters.\n",
    "I_ph = 1.00            # Lamp intensity in suns.\n",
    "\n",
    "# Check parameters to see if mpp tracking mode is on.\n",
    "if(mpp_tracking_mode and do_timeseries and not do_single_scan):\n",
    "    print(\"mpp tracking mode is on!\")\n",
    "else:\n",
    "    mpp_tracking_mode = False\n",
    "    print(\"mpp tracking mode is off.\")"
   ]
  },
  {
   "cell_type": "code",
   "execution_count": null,
   "id": "190e52df",
   "metadata": {
    "scrolled": false
   },
   "outputs": [],
   "source": [
    "########################## This is the main script. ###################################################\n",
    "########################## Double check your parameters before you run it! ############################\n",
    "########################## Also make sure the Keithley unit was discovered and it is responding.#######\n",
    "#######################################################################################################\n",
    "#\n",
    "# Single scan includes dark and light sweeps, and may also include both forward and reverse sweeps.\n",
    "# Single scan has priority over timeseries.\n",
    "if (do_single_scan == True):\n",
    "    numscans = 1\n",
    "elif (do_timeseries == True):\n",
    "    numscans = int(np.ceil(3600*timeseries_duration/timeseries_interval)) + 1\n",
    "    print(\"numscans = \", numscans)\n",
    "else:\n",
    "    numscans = 0\n",
    "#\n",
    "# The main loop starts here.\n",
    "#\n",
    "for myint in range(numscans):\n",
    "    # do the scan\n",
    "    if(direction == \"reverse\"):\n",
    "        fig_R, df_R = Keithley.dark_light_IVsweep(stopv, startv, -stepv, rate=sweep_rate, \n",
    "                                          area=cellarea, plottitle=samplename+\"_\"+cellnumber+\"R\", \n",
    "                                                  verbose=verbose, labjack=labjack, burnintime=burnintime,\n",
    "                                                  do_dark=do_dark_sweeps, mpp_tracking_mode=mpp_tracking_mode)\n",
    "    elif (direction == \"both\"):\n",
    "        fig_F, df_F = Keithley.dark_light_IVsweep(startv, stopv, stepv, rate=sweep_rate, \n",
    "                                          area=cellarea, plottitle=samplename+\"_\"+cellnumber+\"F\", \n",
    "                                                  verbose=verbose, labjack=labjack, burnintime=burnintime,\n",
    "                                                  do_dark=do_dark_sweeps, mpp_tracking_mode=mpp_tracking_mode)\n",
    "        fig_R, df_R = Keithley.dark_light_IVsweep(stopv, startv, -stepv, rate=sweep_rate, \n",
    "                                          area=cellarea, plottitle=samplename+\"_\"+cellnumber+\"R\", \n",
    "                                                  verbose=verbose, labjack=labjack, burnintime=burnintime,\n",
    "                                                  do_dark=do_dark_sweeps, mpp_tracking_mode=mpp_tracking_mode)\n",
    "    else:\n",
    "        fig_F, df_F = Keithley.dark_light_IVsweep(startv, stopv, stepv, rate=sweep_rate, \n",
    "                                          area=cellarea, plottitle=samplename+\"_\"+cellnumber+\"F\", \n",
    "                                                  verbose=verbose, labjack=labjack, burnintime=burnintime,\n",
    "                                                  do_dark=do_dark_sweeps, mpp_tracking_mode=mpp_tracking_mode)\n",
    "   \n",
    "    # record the current time\n",
    "    timenow = datetime.now()\n",
    "    timenowstr = timenow.strftime(\"%H%M%S\")    \n",
    "    datetodaystr = today.strftime(\"%m%d%y\")\n",
    "    # Save the data\n",
    "    if (savedata != 'no'):\n",
    "        if(direction == \"reverse\"):\n",
    "            Keithley.save_data_and_plot(df_R, fig_R, path = path, samplename = samplename, \n",
    "                                        cellnumber = cellnumber+\"R\", timenowstr = timenowstr)\n",
    "        elif (direction == \"both\"):\n",
    "            Keithley.save_data_and_plot(df_F, fig_F, path = path, samplename = samplename, \n",
    "                                    cellnumber = cellnumber+\"F\", timenowstr = timenowstr)\n",
    "            Keithley.save_data_and_plot(df_R, fig_R, path = path, samplename = samplename, \n",
    "                                        cellnumber = cellnumber+\"R\", timenowstr = timenowstr)\n",
    "        else:\n",
    "            Keithley.save_data_and_plot(df_F, fig_F, path = path, samplename = samplename, \n",
    "                                    cellnumber = cellnumber+\"F\", timenowstr = timenowstr)\n",
    "    else:\n",
    "        print(\"Data NOT saved.\")\n",
    "        \n",
    "    ####  Calculate and save the PV parameters.\n",
    "    # Calculate V_OC, J_SC, R_Sh, R_Ser, FF, PCE and save them to a common \"parameters\" file.\n",
    "    if(direction == \"reverse\"):\n",
    "        par_df_new_R = Keithley.calc_and_save_parameters(df_R,  path = path, \n",
    "                                samplename = samplename, cellnumber = cellnumber+\"R\", \n",
    "                                timenowstr = timenowstr, datetodaystr = datetodaystr,\n",
    "                                saveparameters = saveparameters, verbose=verbose,\n",
    "                                timeseries = do_timeseries, base_t = base_t, I_ph = I_ph, \n",
    "                                mpp_tracking_mode=mpp_tracking_mode) \n",
    "    elif (direction == \"both\"):\n",
    "        par_df_new_F = Keithley.calc_and_save_parameters(df_F,  path = path, \n",
    "                                samplename = samplename, cellnumber = cellnumber+\"F\", \n",
    "                                timenowstr = timenowstr, datetodaystr = datetodaystr,\n",
    "                                saveparameters = saveparameters, verbose=verbose,                         \n",
    "                                timeseries = do_timeseries, base_t = base_t, I_ph = I_ph,\n",
    "                                mpp_tracking_mode=mpp_tracking_mode) \n",
    "        par_df_new_R = Keithley.calc_and_save_parameters(df_R,  path = path, \n",
    "                                samplename = samplename, cellnumber = cellnumber+\"R\", \n",
    "                                timenowstr = timenowstr, datetodaystr = datetodaystr,\n",
    "                                saveparameters = saveparameters, verbose=verbose,                      \n",
    "                                timeseries = do_timeseries, base_t = base_t, I_ph = I_ph,\n",
    "                                mpp_tracking_mode=mpp_tracking_mode) \n",
    "    else:\n",
    "        par_df_new_F = Keithley.calc_and_save_parameters(df_F,  path = path, \n",
    "                                samplename = samplename, cellnumber = cellnumber+\"F\", \n",
    "                                timenowstr = timenowstr, datetodaystr = datetodaystr,\n",
    "                                saveparameters = saveparameters, verbose=verbose, \n",
    "                                timeseries = do_timeseries, base_t = base_t, I_ph = I_ph,\n",
    "                                mpp_tracking_mode=mpp_tracking_mode) \n",
    "    \n",
    "    # Delay before the next sweep.\n",
    "    # tqdm displays a progress bar during the sleep time.\n",
    "    print(f\"\\nSweep {(myint+1)} of {numscans} is complete!\")\n",
    "    print(\"Elapsed time: {:.1f}\\n\".format(time.time()-base_t))\n",
    "    if (myint < (numscans-1)):\n",
    "        for i in tqdm(range(timeseries_interval)):\n",
    "            time.sleep(0.99)"
   ]
  },
  {
   "cell_type": "code",
   "execution_count": null,
   "id": "3149b48d",
   "metadata": {},
   "outputs": [],
   "source": []
  },
  {
   "cell_type": "markdown",
   "id": "cdffdc4c",
   "metadata": {},
   "source": [
    "####  You can still view the results if you ran the scan with verbose=0. Use the code block below.\n",
    "\n",
    "Note: This will only display result for the last scan done."
   ]
  },
  {
   "cell_type": "code",
   "execution_count": null,
   "id": "694cf615",
   "metadata": {
    "scrolled": false
   },
   "outputs": [],
   "source": [
    "# Display the single scan results or for the last scan of a timeseries.\n",
    "if (True):\n",
    "    if(direction == \"reverse\"):\n",
    "        print(\"\\n\", par_df_new_R)\n",
    "        display(fig_R)\n",
    "    elif (direction == \"both\"):\n",
    "        print(\"\\n\", par_df_new_F)\n",
    "        print(\"\\n\", par_df_new_R)\n",
    "        display(fig_F)\n",
    "        display(fig_R)\n",
    "    else:\n",
    "        print(\"\\n\", par_df_new_F)\n",
    "        display(fig_F)"
   ]
  },
  {
   "cell_type": "code",
   "execution_count": null,
   "id": "93bb3192",
   "metadata": {},
   "outputs": [],
   "source": []
  },
  {
   "cell_type": "code",
   "execution_count": null,
   "id": "9b82183a",
   "metadata": {},
   "outputs": [],
   "source": []
  },
  {
   "cell_type": "code",
   "execution_count": null,
   "id": "5dc3c272",
   "metadata": {},
   "outputs": [],
   "source": []
  },
  {
   "cell_type": "code",
   "execution_count": null,
   "id": "cc996d21",
   "metadata": {},
   "outputs": [],
   "source": []
  }
 ],
 "metadata": {
  "kernelspec": {
   "display_name": "Python 3 (ipykernel)",
   "language": "python",
   "name": "python3"
  },
  "language_info": {
   "codemirror_mode": {
    "name": "ipython",
    "version": 3
   },
   "file_extension": ".py",
   "mimetype": "text/x-python",
   "name": "python",
   "nbconvert_exporter": "python",
   "pygments_lexer": "ipython3",
   "version": "3.9.7"
  }
 },
 "nbformat": 4,
 "nbformat_minor": 5
}
